{
 "cells": [
  {
   "attachments": {},
   "cell_type": "markdown",
   "metadata": {},
   "source": [
    "# OSX code base"
   ]
  },
  {
   "cell_type": "code",
   "execution_count": 16,
   "metadata": {},
   "outputs": [
    {
     "name": "stdout",
     "output_type": "stream",
     "text": [
      "darwin\n"
     ]
    }
   ],
   "source": [
    "from sys import platform\n",
    "print(platform)\n",
    "#platform.system()"
   ]
  },
  {
   "attachments": {},
   "cell_type": "markdown",
   "metadata": {},
   "source": [
    "Lets scan ports: "
   ]
  },
  {
   "cell_type": "code",
   "execution_count": 9,
   "metadata": {},
   "outputs": [
    {
     "name": "stdout",
     "output_type": "stream",
     "text": [
      "n/a\n",
      "n/a\n"
     ]
    }
   ],
   "source": [
    "import serial.tools.list_ports\n",
    "\n",
    "def scanner()->str:\n",
    "    ports = list(serial.tools.list_ports.comports())\n",
    "    \n",
    "    if platform == \"linux\" or platform == \"linux2\":\n",
    "        pass\n",
    "        # linux\n",
    "    elif platform == \"darwin\":\n",
    "        pass\n",
    "       \n",
    "        for p in ports:\n",
    "            print(p)\n",
    "            if 'USB Serial Port' in p.description:\n",
    "                if p.hwid[p.hwid.index(\"PID\") + 4:p.hwid.rindex(\":\")] == \"0403\":\n",
    "                    print(\"found\")\n",
    "                    # Connection to port\n",
    "                    a = p.hwid\n",
    "                    b = p.hwid[p.hwid.index(\"PID\") + 4:p.hwid.rindex(\":\")]\n",
    "                    return (p.device)\n",
    "\n",
    "    elif platform == \"win32\":\n",
    "        pass\n",
    "        # Windows...\n",
    "\n",
    "\n"
   ]
  },
  {
   "attachments": {},
   "cell_type": "markdown",
   "metadata": {},
   "source": [
    "serial tool works"
   ]
  }
 ],
 "metadata": {
  "kernelspec": {
   "display_name": ".venv",
   "language": "python",
   "name": "python3"
  },
  "language_info": {
   "codemirror_mode": {
    "name": "ipython",
    "version": 3
   },
   "file_extension": ".py",
   "mimetype": "text/x-python",
   "name": "python",
   "nbconvert_exporter": "python",
   "pygments_lexer": "ipython3",
   "version": "3.10.4 (tags/v3.10.4:9d38120, Mar 23 2022, 23:13:41) [MSC v.1929 64 bit (AMD64)]"
  },
  "orig_nbformat": 4,
  "vscode": {
   "interpreter": {
    "hash": "09e5697cfcf5bfe5a42216b97f4d1bc3c844df09ff24175aacac3d6842b7b8ed"
   }
  }
 },
 "nbformat": 4,
 "nbformat_minor": 2
}
