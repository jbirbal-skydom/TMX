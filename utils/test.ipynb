{
 "cells": [
  {
   "attachments": {},
   "cell_type": "markdown",
   "metadata": {},
   "source": [
    "# Create a test environment\n",
    "- Respond to request\n",
    "\\\n",
    "\\\n",
    "initialize a dictionary"
   ]
  },
  {
   "cell_type": "code",
   "execution_count": 34,
   "metadata": {},
   "outputs": [],
   "source": [
    "import random\n",
    "# add data to response\n",
    "def resdata(dec)->bytearray:\n",
    "    buf = bytearray()\n",
    "    buf += dec.to_bytes(1,byteorder='big') # add lead byte\n",
    "    if dec == 208:\n",
    "        buf += str(random.randrange(1,4)).encode()\n",
    "    elif dec == 216 or dec == 217:\n",
    "        buf += str(0).encode()\n",
    "        buf += str(random.randrange(0,4)).encode()\n",
    "    else:\n",
    "        for i in range(2):\n",
    "            buf += str(0).encode()\n",
    "        buf += str(random.randrange(0,9)).encode()\n",
    "        buf += str(random.randrange(0,9)).encode()\n",
    "    return buf"
   ]
  },
  {
   "attachments": {},
   "cell_type": "markdown",
   "metadata": {},
   "source": [
    "Add data to dictionary"
   ]
  },
  {
   "cell_type": "code",
   "execution_count": 42,
   "metadata": {},
   "outputs": [
    {
     "name": "stdout",
     "output_type": "stream",
     "text": [
      "{160: b'\\xb0', 161: b'\\xb1', 162: b'\\xb2', 163: b'\\xb3', 164: b'\\xb4', 165: b'\\xb5', 166: b'\\xb6', 167: b'\\xb7', 168: b'\\xb8', 169: b'\\xb9', 170: b'\\xba', 171: b'\\xbb', 172: b'\\xbc', 192: bytearray(b'\\xd02'), 193: bytearray(b'\\xd10085'), 194: bytearray(b'\\xd20058'), 195: bytearray(b'\\xd30024'), 196: bytearray(b'\\xd40031'), 197: bytearray(b'\\xd50026'), 198: bytearray(b'\\xd60075'), 199: bytearray(b'\\xd70065'), 200: bytearray(b'\\xd803'), 201: bytearray(b'\\xd903'), 202: bytearray(b'\\xda0014'), 203: bytearray(b'\\xdb0068'), 204: bytearray(b'\\xdc0043'), 205: bytearray(b'\\xdd0054')}\n"
     ]
    }
   ],
   "source": [
    "\n",
    "command = {}\n",
    "def newdata():\n",
    "    for i in range(160,173):\n",
    "        command[i] = (i+16).to_bytes(1,byteorder='big')\n",
    "    for i in range(192, 206):\n",
    "        command[i] = resdata(i+16)\n",
    "newdata()\n",
    "print (command)"
   ]
  },
  {
   "attachments": {},
   "cell_type": "markdown",
   "metadata": {},
   "source": [
    "Send appropriate data back\n",
    "- make serial connection\n",
    "- parse incoming data\n",
    "- find key\n",
    "- return string\n",
    "- send tring"
   ]
  },
  {
   "cell_type": "code",
   "execution_count": 2,
   "metadata": {},
   "outputs": [
    {
     "ename": "FileNotFoundError",
     "evalue": "[Errno 2] No such file or directory: 'setting\\\\config.jsonc'",
     "output_type": "error",
     "traceback": [
      "\u001b[1;31m---------------------------------------------------------------------------\u001b[0m",
      "\u001b[1;31mFileNotFoundError\u001b[0m                         Traceback (most recent call last)",
      "Cell \u001b[1;32mIn[2], line 3\u001b[0m\n\u001b[0;32m      1\u001b[0m \u001b[39mimport\u001b[39;00m \u001b[39mserial\u001b[39;00m\n\u001b[0;32m      2\u001b[0m \u001b[39mfrom\u001b[39;00m \u001b[39mconf\u001b[39;00m \u001b[39mimport\u001b[39;00m Conf\n\u001b[1;32m----> 3\u001b[0m args \u001b[39m=\u001b[39m Conf(\u001b[39m\"\u001b[39;49m\u001b[39msetting\u001b[39;49m\u001b[39m\\\u001b[39;49m\u001b[39mconfig.jsonc\u001b[39;49m\u001b[39m\"\u001b[39;49m)\n\u001b[0;32m      5\u001b[0m ser \u001b[39m=\u001b[39m serial\u001b[39m.\u001b[39mSerial(\n\u001b[0;32m      6\u001b[0m     port \u001b[39m=\u001b[39m args[\u001b[39m\"\u001b[39m\u001b[39mreadPort\u001b[39m\u001b[39m\"\u001b[39m], \n\u001b[0;32m      7\u001b[0m     baudrate\u001b[39m=\u001b[39margs[\u001b[39m\"\u001b[39m\u001b[39mrate\u001b[39m\u001b[39m\"\u001b[39m],\n\u001b[1;32m   (...)\u001b[0m\n\u001b[0;32m     11\u001b[0m      timeout\u001b[39m=\u001b[39margs[\u001b[39m\"\u001b[39m\u001b[39mtimeout\u001b[39m\u001b[39m\"\u001b[39m], \n\u001b[0;32m     12\u001b[0m     )\n",
      "File \u001b[1;32mc:\\Users\\wwwno\\OneDrive\\Documents\\Git\\TMX\\utils\\conf.py:8\u001b[0m, in \u001b[0;36mConf.__init__\u001b[1;34m(self, confPath)\u001b[0m\n\u001b[0;32m      6\u001b[0m \u001b[39mdef\u001b[39;00m \u001b[39m__init__\u001b[39m(\u001b[39mself\u001b[39m, confPath):\n\u001b[0;32m      7\u001b[0m \t\u001b[39m# load and store the configuration and update the object's dictionary\u001b[39;00m\n\u001b[1;32m----> 8\u001b[0m \tconf \u001b[39m=\u001b[39m json\u001b[39m.\u001b[39mloads(json_minify(\u001b[39mopen\u001b[39;49m(confPath)\u001b[39m.\u001b[39mread()))\n\u001b[0;32m      9\u001b[0m \t\u001b[39mself\u001b[39m\u001b[39m.\u001b[39m\u001b[39m__dict__\u001b[39m\u001b[39m.\u001b[39mupdate(conf)\n",
      "\u001b[1;31mFileNotFoundError\u001b[0m: [Errno 2] No such file or directory: 'setting\\\\config.jsonc'"
     ]
    }
   ],
   "source": [
    "import serial\n",
    "from conf import Conf\n",
    "args = Conf(\"..\\setting\\config.jsonc\")\n",
    "\n",
    "ser = serial.Serial(\n",
    "    port = args[\"readPort\"], \n",
    "    baudrate=args[\"rate\"],\n",
    "    parity=args[\"Parity\"],\n",
    "    stopbits=args[\"stopbits\"],\n",
    "    bytesize=args[\"bytes\"], \n",
    "     timeout=args[\"timeout\"], \n",
    "    )"
   ]
  },
  {
   "attachments": {},
   "cell_type": "markdown",
   "metadata": {},
   "source": [
    "parse incoming string"
   ]
  },
  {
   "cell_type": "code",
   "execution_count": 54,
   "metadata": {},
   "outputs": [
    {
     "name": "stdout",
     "output_type": "stream",
     "text": [
      "COM2\n",
      "b'\\xa1'\n"
     ]
    }
   ],
   "source": [
    "print (ser.name)        \n",
    "if(ser.in_waiting > 0):\n",
    "    res = ser.readline()\n",
    "    print(res)"
   ]
  },
  {
   "attachments": {},
   "cell_type": "markdown",
   "metadata": {},
   "source": [
    "parse hex"
   ]
  },
  {
   "cell_type": "code",
   "execution_count": 55,
   "metadata": {},
   "outputs": [
    {
     "name": "stdout",
     "output_type": "stream",
     "text": [
      "161  :  \n"
     ]
    }
   ],
   "source": [
    "req = (int(res[0])) #key\n",
    "reqd = ((res[1:].decode())) #value\n",
    "print (req, ' : ', reqd)"
   ]
  },
  {
   "attachments": {},
   "cell_type": "markdown",
   "metadata": {},
   "source": [
    "use key to get response"
   ]
  },
  {
   "cell_type": "code",
   "execution_count": 56,
   "metadata": {},
   "outputs": [
    {
     "data": {
      "text/plain": [
       "1"
      ]
     },
     "execution_count": 56,
     "metadata": {},
     "output_type": "execute_result"
    }
   ],
   "source": [
    "ser.write (command[req])"
   ]
  }
 ],
 "metadata": {
  "kernelspec": {
   "display_name": ".venv",
   "language": "python",
   "name": "python3"
  },
  "language_info": {
   "codemirror_mode": {
    "name": "ipython",
    "version": 3
   },
   "file_extension": ".py",
   "mimetype": "text/x-python",
   "name": "python",
   "nbconvert_exporter": "python",
   "pygments_lexer": "ipython3",
   "version": "3.10.4"
  },
  "orig_nbformat": 4,
  "vscode": {
   "interpreter": {
    "hash": "09e5697cfcf5bfe5a42216b97f4d1bc3c844df09ff24175aacac3d6842b7b8ed"
   }
  }
 },
 "nbformat": 4,
 "nbformat_minor": 2
}
