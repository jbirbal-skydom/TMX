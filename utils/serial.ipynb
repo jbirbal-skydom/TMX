{
 "cells": [
  {
   "attachments": {},
   "cell_type": "markdown",
   "metadata": {},
   "source": [
    "# Decode Hex data\n",
    "Standard Import"
   ]
  },
  {
   "cell_type": "code",
   "execution_count": 1,
   "metadata": {},
   "outputs": [],
   "source": [
    "import serial\n",
    "import codecs\n",
    "from utils.conf import Conf\n",
    "args = Conf(\"setting\\config.jsonc\")"
   ]
  },
  {
   "attachments": {},
   "cell_type": "markdown",
   "metadata": {},
   "source": [
    "Set up device"
   ]
  },
  {
   "cell_type": "code",
   "execution_count": 2,
   "metadata": {},
   "outputs": [],
   "source": [
    "ser = serial.Serial(\n",
    "    port = args[\"readPort\"], \n",
    "    baudrate=args[\"rate\"],\n",
    "    parity=args[\"Parity\"],\n",
    "    stopbits=args[\"stopbits\"],\n",
    "    bytesize=args[\"bytes\"], \n",
    "     timeout=args[\"timeout\"], \n",
    "    )"
   ]
  },
  {
   "attachments": {},
   "cell_type": "markdown",
   "metadata": {},
   "source": [
    "Read device"
   ]
  },
  {
   "cell_type": "code",
   "execution_count": 26,
   "metadata": {},
   "outputs": [
    {
     "name": "stdout",
     "output_type": "stream",
     "text": [
      "COM2\n",
      "b'\\xd30040'\n"
     ]
    }
   ],
   "source": [
    "print (ser.name)        \n",
    "if(ser.in_waiting > 0):\n",
    "    res = ser.readline()\n",
    "    # if res == \"T\":\n",
    "    #     print (\"start\")\n",
    "    #     ser.write(\"T\".encode())\n",
    "    print(res)\n",
    "    #ser.write(b\"Thank you for sending data \\r\\n\")"
   ]
  },
  {
   "attachments": {},
   "cell_type": "markdown",
   "metadata": {},
   "source": [
    "#### Decode the data\n",
    "  Binary data comes in \\\n",
    " Python prints it as hex data unless it can decipher it example: \n",
    "\n",
    "- \\xa3 ---- (a3) \n",
    "- 0  ---- (30) \\\n",
    "  \\\n",
    "The  "
   ]
  },
  {
   "cell_type": "code",
   "execution_count": 28,
   "metadata": {},
   "outputs": [
    {
     "name": "stdout",
     "output_type": "stream",
     "text": [
      "0xd3\n"
     ]
    }
   ],
   "source": [
    "print (hex(res[0]))"
   ]
  },
  {
   "attachments": {},
   "cell_type": "markdown",
   "metadata": {},
   "source": [
    "decimal value is more efficient... easier to impliment \\\n",
    "this is the response key \\"
   ]
  },
  {
   "cell_type": "code",
   "execution_count": 33,
   "metadata": {},
   "outputs": [
    {
     "name": "stdout",
     "output_type": "stream",
     "text": [
      "211\n",
      "0040\n"
     ]
    }
   ],
   "source": [
    "print (int(res[0])) #key\n",
    "print ((res[1:].decode())) #value"
   ]
  },
  {
   "attachments": {},
   "cell_type": "markdown",
   "metadata": {},
   "source": [
    "##### lets put this in a names dictionary\n",
    "\n",
    "First inititalize the dictionary"
   ]
  },
  {
   "cell_type": "code",
   "execution_count": 30,
   "metadata": {},
   "outputs": [
    {
     "name": "stdout",
     "output_type": "stream",
     "text": [
      "\n"
     ]
    }
   ],
   "source": [
    "inputcmd = {}\n",
    "statres = {}\n",
    "for i in range (160,173):\n",
    "    inputcmd[i]=None\n",
    "    \n",
    "print (\"\")\n",
    "for i in range (208,222):\n",
    "    statres[i]=None\n"
   ]
  },
  {
   "attachments": {},
   "cell_type": "markdown",
   "metadata": {},
   "source": [
    "lets add the data to dictionary"
   ]
  },
  {
   "cell_type": "code",
   "execution_count": 36,
   "metadata": {},
   "outputs": [],
   "source": [
    "statres[int(res[0])] = res[1:].decode()"
   ]
  },
  {
   "cell_type": "code",
   "execution_count": 37,
   "metadata": {},
   "outputs": [
    {
     "name": "stdout",
     "output_type": "stream",
     "text": [
      "{208: None, 209: None, 210: None, 211: '0040', 212: None, 213: None, 214: None, 215: None, 216: None, 217: None, 218: None, 219: None, 220: None, 221: None}\n"
     ]
    }
   ],
   "source": [
    "print (statres)"
   ]
  },
  {
   "attachments": {},
   "cell_type": "markdown",
   "metadata": {},
   "source": [
    "## lets send a command\n",
    "- We will set a value\n",
    "- Look for any keys that is not \"None\"\n",
    "- get key/value pair\n",
    "- encode it\n",
    "- send it"
   ]
  },
  {
   "cell_type": "code",
   "execution_count": 79,
   "metadata": {},
   "outputs": [],
   "source": [
    "inputcmd[163]= \"0080\" #set value (speed)\n",
    "inputcmd[164]= \"0040\" #set value (elevation)"
   ]
  },
  {
   "attachments": {},
   "cell_type": "markdown",
   "metadata": {},
   "source": [
    "loop through dictonary for values that are not 'none'"
   ]
  },
  {
   "cell_type": "code",
   "execution_count": 80,
   "metadata": {},
   "outputs": [
    {
     "name": "stdout",
     "output_type": "stream",
     "text": [
      "Non-None keys list : [163, 164]\n"
     ]
    }
   ],
   "source": [
    "# Using loop\n",
    "# Non-None dictionary Keys\n",
    "res = []\n",
    "for ele in inputcmd:\n",
    "    if inputcmd[ele] is not None :\n",
    "        res.append(ele)\n",
    "\n",
    "print(\"Non-None keys list : \" + str(res))"
   ]
  },
  {
   "cell_type": "code",
   "execution_count": 81,
   "metadata": {},
   "outputs": [
    {
     "name": "stdout",
     "output_type": "stream",
     "text": [
      "bytearray(b'\\xa30080\\xa1')\n",
      "bytearray(b'\\xa40040')\n"
     ]
    }
   ],
   "source": [
    "enc = bytearray()\n",
    "for key in res:\n",
    "    enc += key.to_bytes(1,byteorder='big') #encode decimal to byte\n",
    "    for c in inputcmd[key]:\n",
    "        enc +=c.encode() #encode each chr to byte\n",
    "    if key == 163:\n",
    "        enc += bytes.fromhex(\"a1\") #start belt\n",
    "    print (enc)\n",
    "    ser.write (enc)\n",
    "    enc = bytearray() #empty buffer\n",
    "    ser.write (bytes.fromhex(\"c1\"))\n",
    "    #inputcmd[key] = None # clear key\n",
    "    \n"
   ]
  },
  {
   "cell_type": "code",
   "execution_count": null,
   "metadata": {},
   "outputs": [],
   "source": []
  }
 ],
 "metadata": {
  "kernelspec": {
   "display_name": ".venv",
   "language": "python",
   "name": "python3"
  },
  "language_info": {
   "codemirror_mode": {
    "name": "ipython",
    "version": 3
   },
   "file_extension": ".py",
   "mimetype": "text/x-python",
   "name": "python",
   "nbconvert_exporter": "python",
   "pygments_lexer": "ipython3",
   "version": "3.10.4 (tags/v3.10.4:9d38120, Mar 23 2022, 23:13:41) [MSC v.1929 64 bit (AMD64)]"
  },
  "orig_nbformat": 4,
  "vscode": {
   "interpreter": {
    "hash": "09e5697cfcf5bfe5a42216b97f4d1bc3c844df09ff24175aacac3d6842b7b8ed"
   }
  }
 },
 "nbformat": 4,
 "nbformat_minor": 2
}
